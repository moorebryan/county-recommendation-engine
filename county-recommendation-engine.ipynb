{
 "cells": [
  {
   "cell_type": "markdown",
   "metadata": {},
   "source": [
    "# The main plot I am showing in this notebook is at the end"
   ]
  },
  {
   "cell_type": "markdown",
   "metadata": {},
   "source": [
    "If not already installed (and running Anaconda) install the following:<br>\n",
    "conda install plotly<br>\n",
    "conda install geopandas<br>\n",
    "conda install pyshp\n"
   ]
  },
  {
   "cell_type": "markdown",
   "metadata": {},
   "source": [
    "Eventually the below will be handeled by an interface, but for now it is manual"
   ]
  },
  {
   "cell_type": "code",
   "execution_count": 147,
   "metadata": {},
   "outputs": [],
   "source": [
    "# User chooses which features to include from the list of all available features\n",
    "# These features are (Mean Income , Unemployment Rate , Rural-Urban Continuum Code , \n",
    "# Avg Num Of Sales , crime_rate_per_100000 , Avg Listing Price , Avg Listing Per Sqr Ft\n",
    "# included_features = ['crime_rate_per_100000','Avg Listing Price','Mean Income','Rural-Urban Continuum Code',\n",
    "#                     'Unemployment Rate']\n",
    "included_features = ['Avg Listing Price','Rural-Urban Continuum Code','Unemployment Rate','Mean Income']\n",
    "\n",
    "# For these selected features the user selects the optimal values they prefer\n",
    "# Eventually this will be through a drop-down menu, but for now it is a lsit entered in the same order as the\n",
    "# provided features above\n",
    "feature_values_desired = [150000,6,5,95000]\n",
    "\n",
    "# If desired you can choose to only select a subset of the country (by region)\n",
    "# Region names are Northeast, Southeast, Midwest, Southwest, and West\n",
    "region_select = [] # Brackets around selection\n",
    "\n",
    "# Users also have the option to limit their selection to a single state, or search the entire country\n",
    "# This will be done through an interface, but here it is using a single list\n",
    "# If this list is empty it will select entire country, otherwise enter name as string in the list\n",
    "# Note Rural-Urban Continuum Code goes from 1-9, with 1 being bustling city\n",
    "state_select = []\n",
    "\n",
    "# Below is the number of counties to display\n",
    "num_counties = 0\n",
    "\n",
    "# Select order to use for calculating Minkowski distance between counties\n",
    "p=2\n",
    "\n",
    "# Where processed files are saved to\n",
    "processed_data_folder = '/Users/bryan/Movies/Data For TDI Project/Processed_Data_County_Level'\n",
    "county_file_name = 'for_county_recommendations.csv'"
   ]
  },
  {
   "cell_type": "markdown",
   "metadata": {},
   "source": [
    "Import All Modules"
   ]
  },
  {
   "cell_type": "code",
   "execution_count": 148,
   "metadata": {},
   "outputs": [],
   "source": [
    "import pandas as pd\n",
    "import os.path\n",
    "from scipy.spatial.distance import minkowski\n",
    "import numpy as np\n",
    "from sklearn.preprocessing import MinMaxScaler, StandardScaler\n",
    "from sklearn.cluster import KMeans, SpectralClustering\n",
    "import matplotlib.pyplot as plt\n",
    "\n",
    "import plotly\n",
    "plotly.tools.set_credentials_file(username='bmoore49', api_key='xnI7D5RMqkWnQzD76tDx')\n",
    "import plotly.plotly as py\n",
    "import plotly.figure_factory as ff\n",
    "\n",
    "# The below suppresses all warnings in the notebook\n",
    "# Only leave this uncommented for display purposes\n",
    "import warnings\n",
    "warnings.filterwarnings(\"ignore\")"
   ]
  },
  {
   "cell_type": "code",
   "execution_count": 149,
   "metadata": {},
   "outputs": [],
   "source": [
    "# During EDA it was noted that there is an extremely strong correlation\n",
    "# between Avg Listing Price and Avg Listing Per Sqr Ft\n",
    "# To prevent this from causing signficant problems during the search below we will manually prevent the user from\n",
    "# having selecting both\n",
    "# For the final version this can be done directly through the interface, but here is is a check after the fact\n",
    "\n",
    "if ('Avg Listing Price' in included_features) & ('Avg Listing Per Sqr Ft' in included_features):\n",
    "    print('You must remove either Avg Listing Price or Avg Listing Per Sqr Ft from your selection')\n",
    "    print('Both are not allowed as they will degrade your predictions')\n",
    "    raise KeyboardInterrupt"
   ]
  },
  {
   "cell_type": "markdown",
   "metadata": {},
   "source": [
    "Now load the data into memory"
   ]
  },
  {
   "cell_type": "code",
   "execution_count": 150,
   "metadata": {},
   "outputs": [
    {
     "data": {
      "text/html": [
       "<div>\n",
       "<style scoped>\n",
       "    .dataframe tbody tr th:only-of-type {\n",
       "        vertical-align: middle;\n",
       "    }\n",
       "\n",
       "    .dataframe tbody tr th {\n",
       "        vertical-align: top;\n",
       "    }\n",
       "\n",
       "    .dataframe thead th {\n",
       "        text-align: right;\n",
       "    }\n",
       "</style>\n",
       "<table border=\"1\" class=\"dataframe\">\n",
       "  <thead>\n",
       "    <tr style=\"text-align: right;\">\n",
       "      <th></th>\n",
       "      <th>index</th>\n",
       "      <th>Mean Income</th>\n",
       "      <th>Unemployment Rate</th>\n",
       "      <th>Rural-Urban Continuum Code</th>\n",
       "      <th>Avg Num Of Sales</th>\n",
       "      <th>crime_rate_per_100000</th>\n",
       "      <th>Avg Listing Price</th>\n",
       "      <th>Avg Listing Per Sqr Ft</th>\n",
       "      <th>FIPS</th>\n",
       "      <th>StateName</th>\n",
       "      <th>CountyName</th>\n",
       "    </tr>\n",
       "  </thead>\n",
       "  <tbody>\n",
       "    <tr>\n",
       "      <th>0</th>\n",
       "      <td>1.0</td>\n",
       "      <td>58343.0</td>\n",
       "      <td>3.9</td>\n",
       "      <td>2.0</td>\n",
       "      <td>180.490909</td>\n",
       "      <td>251.601926</td>\n",
       "      <td>200641.125000</td>\n",
       "      <td>101.445131</td>\n",
       "      <td>1001</td>\n",
       "      <td>Alabama</td>\n",
       "      <td>Autauga</td>\n",
       "    </tr>\n",
       "    <tr>\n",
       "      <th>1</th>\n",
       "      <td>2.0</td>\n",
       "      <td>56607.0</td>\n",
       "      <td>4.0</td>\n",
       "      <td>3.0</td>\n",
       "      <td>458.500000</td>\n",
       "      <td>228.086325</td>\n",
       "      <td>306246.250000</td>\n",
       "      <td>147.828333</td>\n",
       "      <td>1003</td>\n",
       "      <td>Alabama</td>\n",
       "      <td>Baldwin</td>\n",
       "    </tr>\n",
       "    <tr>\n",
       "      <th>2</th>\n",
       "      <td>3.0</td>\n",
       "      <td>32490.0</td>\n",
       "      <td>5.9</td>\n",
       "      <td>6.0</td>\n",
       "      <td>7.356602</td>\n",
       "      <td>177.278771</td>\n",
       "      <td>163670.833333</td>\n",
       "      <td>88.227731</td>\n",
       "      <td>1005</td>\n",
       "      <td>Alabama</td>\n",
       "      <td>Barbour</td>\n",
       "    </tr>\n",
       "    <tr>\n",
       "      <th>3</th>\n",
       "      <td>4.0</td>\n",
       "      <td>45795.0</td>\n",
       "      <td>4.4</td>\n",
       "      <td>1.0</td>\n",
       "      <td>4.666667</td>\n",
       "      <td>217.661692</td>\n",
       "      <td>144979.083333</td>\n",
       "      <td>87.040312</td>\n",
       "      <td>1007</td>\n",
       "      <td>Alabama</td>\n",
       "      <td>Bibb</td>\n",
       "    </tr>\n",
       "    <tr>\n",
       "      <th>4</th>\n",
       "      <td>5.0</td>\n",
       "      <td>48253.0</td>\n",
       "      <td>4.0</td>\n",
       "      <td>1.0</td>\n",
       "      <td>51.545455</td>\n",
       "      <td>210.810064</td>\n",
       "      <td>175120.833333</td>\n",
       "      <td>110.452846</td>\n",
       "      <td>1009</td>\n",
       "      <td>Alabama</td>\n",
       "      <td>Blount</td>\n",
       "    </tr>\n",
       "  </tbody>\n",
       "</table>\n",
       "</div>"
      ],
      "text/plain": [
       "   index  Mean Income  Unemployment Rate  Rural-Urban Continuum Code  \\\n",
       "0    1.0      58343.0                3.9                         2.0   \n",
       "1    2.0      56607.0                4.0                         3.0   \n",
       "2    3.0      32490.0                5.9                         6.0   \n",
       "3    4.0      45795.0                4.4                         1.0   \n",
       "4    5.0      48253.0                4.0                         1.0   \n",
       "\n",
       "   Avg Num Of Sales  crime_rate_per_100000  Avg Listing Price  \\\n",
       "0        180.490909             251.601926      200641.125000   \n",
       "1        458.500000             228.086325      306246.250000   \n",
       "2          7.356602             177.278771      163670.833333   \n",
       "3          4.666667             217.661692      144979.083333   \n",
       "4         51.545455             210.810064      175120.833333   \n",
       "\n",
       "   Avg Listing Per Sqr Ft  FIPS StateName CountyName  \n",
       "0              101.445131  1001   Alabama    Autauga  \n",
       "1              147.828333  1003   Alabama    Baldwin  \n",
       "2               88.227731  1005   Alabama    Barbour  \n",
       "3               87.040312  1007   Alabama       Bibb  \n",
       "4              110.452846  1009   Alabama     Blount  "
      ]
     },
     "execution_count": 150,
     "metadata": {},
     "output_type": "execute_result"
    }
   ],
   "source": [
    "# Load dataframe with data for recommendations into memory\n",
    "for_county_recommendations_df = pd.read_csv(os.path.join(processed_data_folder,county_file_name))\n",
    "# Drop unnecessary column (artificat from being read in)\n",
    "for_county_recommendations_df.drop(columns=['Unnamed: 0'], inplace=True)\n",
    "\n",
    "for_county_recommendations_df.head()"
   ]
  },
  {
   "cell_type": "code",
   "execution_count": 151,
   "metadata": {},
   "outputs": [],
   "source": [
    "# Run this only if region_select has been filled out and no list of specific states created\n",
    "if (not(len(region_select))==0 and len(state_select)==0):\n",
    "    \n",
    "    if region_select==['Northeast']:\n",
    "        state_select=['Maine','Massachusetts','Rhode Island','Connecticut','New Hampshire','Vermont','New York',\n",
    "                      'Pennsylvania','New Jersey','Delaware','Maryland']\n",
    "    if region_select==['Southeast']:\n",
    "        state_select=['West Virginia','Virginia','Kentucky','Tennessee','North Carolina','South Carolina',\n",
    "                      'Georgia','Alabama','Mississippi','Arkansas','Louisiana','Florida']\n",
    "    if region_select==['Midwest']:\n",
    "        state_select=['Ohio','Indiana','Michigan','Illinois','Missouri','Wisconsin','Minnesota','Iowa','Kansas',\n",
    "                      'Nebraska','South Dakota','North Dakota']\n",
    "    if region_select==['Southwest']:\n",
    "        state_select=['Texas','Oklahoma','New Mexico','Arizona']\n",
    "    if region_select==['West']:\n",
    "        state_select=['Colorado','Wyoming','Montana','Idaho','Washington','Oregon','Utah','Nevada','California',\n",
    "                      'Alaska','Hawaii']"
   ]
  },
  {
   "cell_type": "code",
   "execution_count": 152,
   "metadata": {},
   "outputs": [],
   "source": [
    "# Make sure all provided states are in the dataframe\n",
    "# Once this is done through an interface this will not be a problem, but for now we check manually\n",
    "\n",
    "# First get list of all unique state names in the dataframe\n",
    "states_in_df = for_county_recommendations_df.StateName.unique()\n",
    "\n",
    "for item in state_select: # Go through each requested state and make sure it is in the list\n",
    "    if not (item in states_in_df): # If not in list alert user\n",
    "        print('The selected state (%s) is not in the dataframe' %item)\n",
    "        print('Replace this selection with a valid name from the list states_in_df')\n",
    "        raise KeyboardInterrupt"
   ]
  },
  {
   "cell_type": "markdown",
   "metadata": {},
   "source": [
    "Now modify this dataframe if the user selected to limit it to only chosen states"
   ]
  },
  {
   "cell_type": "code",
   "execution_count": 153,
   "metadata": {},
   "outputs": [
    {
     "name": "stdout",
     "output_type": "stream",
     "text": [
      "There are 3137 counties in database\n"
     ]
    }
   ],
   "source": [
    "# The above is run only if the list for selecting a state is not empty\n",
    "if not (len(state_select)==0):\n",
    "    # Only include entries corresponding to States provided by users\n",
    "    for_county_recommendations_df = for_county_recommendations_df[for_county_recommendations_df.StateName.isin(state_select)]\n",
    "    \n",
    "# Now check how many counties are in list available for selection    \n",
    "print('There are %i counties in database' %for_county_recommendations_df.shape[0])"
   ]
  },
  {
   "cell_type": "code",
   "execution_count": 154,
   "metadata": {},
   "outputs": [],
   "source": [
    "# If user selected 0 counties change this to include all counties in new database\n",
    "if num_counties==0:\n",
    "    num_counties = for_county_recommendations_df.shape[0]"
   ]
  },
  {
   "cell_type": "markdown",
   "metadata": {},
   "source": [
    "We now restrict this dataframe to only hold the selected features for this comparison"
   ]
  },
  {
   "cell_type": "code",
   "execution_count": 155,
   "metadata": {},
   "outputs": [],
   "source": [
    "# First, make separate dataframe with FIPS, StateName, and CountyName information\n",
    "# This is not needed for finding most similar columns, but will be needed for displaying human-readable\n",
    "# information to the user\n",
    "county_info_df = for_county_recommendations_df[['FIPS','StateName','CountyName']]\n",
    "\n",
    "# Now choose to only keep those features indicated above\n",
    "feature_df = for_county_recommendations_df[included_features]\n",
    "feature_titles = list(feature_df.columns.values)\n",
    "feature_array = feature_df.values"
   ]
  },
  {
   "cell_type": "markdown",
   "metadata": {},
   "source": [
    "Now implement PCA such that we work in a space where all features are indpendent"
   ]
  },
  {
   "cell_type": "code",
   "execution_count": 156,
   "metadata": {},
   "outputs": [],
   "source": [
    "# Definition performs PCA and allows you to see amount of variance explained by new features\n",
    "def view_pca_variance(feature_array):\n",
    "    # Now Scale the feature matrix\n",
    "    feature_array = StandardScaler().fit_transform(feature_array)\n",
    "\n",
    "    # Find Eigenvalues and Eigenvectors\n",
    "    cor_mat1 = np.corrcoef(feature_array.T)\n",
    "    eig_vals, eig_vecs = np.linalg.eig(cor_mat1)\n",
    "\n",
    "    # Make a list of (eigenvalue, eigenvector) tuples\n",
    "    eig_pairs = [(np.abs(eig_vals[i]), eig_vecs[:,i]) for i in range(len(eig_vals))]\n",
    "    # Sort the (eigenvalue, eigenvector) tuples from high to low\n",
    "    eig_pairs.sort()\n",
    "    eig_pairs.reverse()\n",
    "    \n",
    "    # Now plot the total variance explained by each feature in the new vector space\n",
    "    tot = sum(eig_vals)\n",
    "    var_exp = [(i / tot)*100 for i in sorted(eig_vals, reverse=True)]\n",
    "    cum_var_exp = np.cumsum(var_exp)\n",
    "    num_eig_pairs = len(eig_pairs)+1\n",
    "\n",
    "    trace1 = dict(\n",
    "        type='bar',\n",
    "        x=['PC %s' %i for i in range(1,num_eig_pairs)],\n",
    "        y=var_exp,\n",
    "        name='Individual'\n",
    "    )\n",
    "    trace2 = dict(\n",
    "        type='scatter',\n",
    "        x=['PC %s' %i for i in range(1,num_eig_pairs)], \n",
    "        y=cum_var_exp,\n",
    "        name='Cumulative'\n",
    "    )\n",
    "    data = [trace1, trace2]\n",
    "    layout=dict(\n",
    "        title='Explained variance by different principal components',\n",
    "        yaxis=dict(\n",
    "            title='Explained variance in percent'\n",
    "        ),\n",
    "        annotations=list([\n",
    "            dict(\n",
    "                x=1.16,\n",
    "                y=1.05,\n",
    "                xref='paper',\n",
    "                yref='paper',\n",
    "                text='Explained Variance',\n",
    "                showarrow=False,\n",
    "            )\n",
    "        ])\n",
    "    )\n",
    "    fig = dict(data=data, layout=layout)\n",
    "    \n",
    "    return py.iplot(fig, filename='exploratory-vis-histogram')"
   ]
  },
  {
   "cell_type": "code",
   "execution_count": 157,
   "metadata": {},
   "outputs": [
    {
     "name": "stdout",
     "output_type": "stream",
     "text": [
      "High five! You successfully sent some data to your account on plotly. View your plot in your browser at https://plot.ly/~bmoore49/0 or inside your plot.ly account where it is named 'exploratory-vis-histogram'\n"
     ]
    },
    {
     "data": {
      "text/html": [
       "<iframe id=\"igraph\" scrolling=\"no\" style=\"border:none;\" seamless=\"seamless\" src=\"https://plot.ly/~bmoore49/0.embed\" height=\"525px\" width=\"100%\"></iframe>"
      ],
      "text/plain": [
       "<plotly.tools.PlotlyDisplay object>"
      ]
     },
     "execution_count": 157,
     "metadata": {},
     "output_type": "execute_result"
    }
   ],
   "source": [
    "# First add the users chosen vector to the feature matrix\n",
    "feature_array = np.concatenate((np.asarray(feature_values_desired).reshape(1,-1),feature_array), axis=0)\n",
    "\n",
    "# View outcome of PCA implementation\n",
    "view_pca_variance(feature_array)"
   ]
  },
  {
   "cell_type": "markdown",
   "metadata": {},
   "source": [
    "Now, using this choose how many features to keep in the output feature matrix after PCA"
   ]
  },
  {
   "cell_type": "code",
   "execution_count": 158,
   "metadata": {},
   "outputs": [],
   "source": [
    "def implement_pca(feature_array,num_include):\n",
    "    # Now Scale the feature matrix\n",
    "    feature_array = StandardScaler().fit_transform(feature_array)\n",
    "    \n",
    "    # Find Eigenvalues and Eigenvectors\n",
    "    cor_mat1 = np.corrcoef(feature_array.T)\n",
    "    eig_vals, eig_vecs = np.linalg.eig(cor_mat1)\n",
    "    \n",
    "    # Make a list of (eigenvalue, eigenvector) tuples\n",
    "    eig_pairs = [(np.abs(eig_vals[i]), eig_vecs[:,i]) for i in range(len(eig_vals))]\n",
    "    # Sort the (eigenvalue, eigenvector) tuples from high to low\n",
    "    eig_pairs.sort()\n",
    "    eig_pairs.reverse()\n",
    "    \n",
    "    eigenvector_length = feature_array.shape[1]\n",
    "    \n",
    "    matrix_w = np.empty(shape=(eigenvector_length,num_include))\n",
    "    col_num = 0\n",
    "    for i in range(num_include):\n",
    "        matrix_w[:,col_num] = eig_pairs[col_num][1].reshape(eigenvector_length,1).flatten()\n",
    "        col_num+=1\n",
    "    \n",
    "    # Now use this weight matrix to perform the transformation\n",
    "    feature_array_proj = feature_array.dot(matrix_w)\n",
    "    \n",
    "    return feature_array_proj"
   ]
  },
  {
   "cell_type": "code",
   "execution_count": 159,
   "metadata": {},
   "outputs": [],
   "source": [
    "####### Apply PCA to feature array ##############\n",
    "feature_array = implement_pca(feature_array,4)\n",
    "\n",
    "######## Apply only scaling to feature array ################\n",
    "# scaler = StandardScaler().fit(feature_array.reshape(-1, 1))\n",
    "# feature_values_desired = scaler.transform(feature_values_desired.reshape(-1, 1))\n",
    "# feature_array = scaler.transform(feature_array)\n",
    "\n",
    "feature_values_desired = feature_array[0,:]\n",
    "feature_array = np.delete(feature_array,(0),axis=0)"
   ]
  },
  {
   "cell_type": "markdown",
   "metadata": {},
   "source": [
    "Implement K-Means Clustering on the counties in the chosen dataset"
   ]
  },
  {
   "cell_type": "code",
   "execution_count": 160,
   "metadata": {},
   "outputs": [],
   "source": [
    "# Implement standard k-means clustering\n",
    "km = KMeans(n_clusters=2)\n",
    "km.fit(feature_array)\n",
    "k_mean_labels = km.labels_\n",
    "\n",
    "# Implement spectral clustering using nearest neighbors\n",
    "sp = SpectralClustering(n_clusters=2, affinity='nearest_neighbors')\n",
    "sp.fit(feature_array)\n",
    "k_mean_spectral_labels = sp.labels_"
   ]
  },
  {
   "cell_type": "markdown",
   "metadata": {},
   "source": [
    "We now calculate the minkowski distance between our provided row and each row in the dataframe and see which rows are the closest matches for the indicated features<br>\n",
    "Note that the order of features will have been re-ordered to be in the same order as the supplied values above"
   ]
  },
  {
   "cell_type": "code",
   "execution_count": 161,
   "metadata": {},
   "outputs": [],
   "source": [
    "# First calculate all distances between our supplied vector and every vector in our list\n",
    "# Out of this we get a tuple for each calculation. First value in Tuple Holds calculated distance and second\n",
    "# holds its corresponding index, third is k-means class, 4th is spectral clustering class\n",
    "all_dist = [(minkowski(feature_values_desired,feature_array[row,:],p),\n",
    "             row,k_mean_labels[row],k_mean_spectral_labels[row]) for row in range(feature_array.shape[0])]\n",
    "\n",
    "# This orders the closest distances so they are at the front of the list\n",
    "# Each entry is a tuple. The first item holds the distance and the second the corresponding index\n",
    "sorted_counties = sorted(all_dist, key=lambda x: x[0])\n",
    "\n",
    "# Now select to only keep the desired number of most similar counties\n",
    "sorted_counties = sorted_counties[:num_counties]\n",
    "# Get list of corresponding indices\n",
    "distance_metric = [tuples[0] for tuples in sorted_counties]\n",
    "\n",
    "sorted_counties_indices = [int(tuples[1]) for tuples in sorted_counties]\n",
    "\n",
    "# Now find list of associated FIPS numbers\n",
    "FIPS_vec = county_info_df.FIPS.values\n",
    "# Get list of FIPS values corresponding to found indices\n",
    "FIPS_values = FIPS_vec[sorted_counties_indices]"
   ]
  },
  {
   "cell_type": "code",
   "execution_count": 162,
   "metadata": {},
   "outputs": [
    {
     "data": {
      "image/png": "[encoded data removed]",
      "text/plain": [
       "<Figure size 432x288 with 1 Axes>"
      ]
     },
     "metadata": {
      "needs_background": "light"
     },
     "output_type": "display_data"
    },
    {
     "data": {
      "image/png": "[encoded data removed]",
      "text/plain": [
       "<Figure size 432x288 with 1 Axes>"
      ]
     },
     "metadata": {
      "needs_background": "light"
     },
     "output_type": "display_data"
    }
   ],
   "source": [
    "ordered_kmeans = [currVec[2] for currVec in all_dist]\n",
    "ordered_spectral_clusters = [currVec[3] for currVec in all_dist]\n",
    "plt.scatter(list(range(len(ordered_kmeans))),ordered_kmeans)\n",
    "plt.show()\n",
    "plt.scatter(list(range(len(ordered_spectral_clusters))),ordered_spectral_clusters)\n",
    "plt.show()"
   ]
  },
  {
   "cell_type": "markdown",
   "metadata": {},
   "source": [
    "Trying clusters of 2,3,4, or 5 groups shows no relationship for either clustering approach with the euclidean distances, which are believed to be somewhat correct based on user voting"
   ]
  },
  {
   "cell_type": "code",
   "execution_count": 163,
   "metadata": {},
   "outputs": [],
   "source": [
    "# Now scale these values so max value is 1\n",
    "distance_score = [float(score)/max(distance_metric) for score in distance_metric]"
   ]
  },
  {
   "cell_type": "markdown",
   "metadata": {},
   "source": [
    "We will now correlate these counties with the associated information for human readability<br>\n",
    "Below we output this as a pandas dataframe with the county and state names, along with the above-calculated score"
   ]
  },
  {
   "cell_type": "code",
   "execution_count": 164,
   "metadata": {},
   "outputs": [],
   "source": [
    "# Create new dataframe with this information\n",
    "recommended_counties_df = pd.DataFrame()\n",
    "\n",
    "# Add in corresponding FIPS Values\n",
    "recommended_counties_df['FIPS'] = FIPS_values\n",
    "# Now add in the scores correlated with these FIPS values\n",
    "recommended_counties_df['Closeness Score'] = distance_score\n",
    "# Now insert corresponding information about which county and state this corresponds to\n",
    "recommended_counties_df = pd.merge(recommended_counties_df,for_county_recommendations_df[['FIPS','StateName','CountyName']+included_features],how='outer',on='FIPS')\n",
    "# Now drop all rows which recommendations were not made for\n",
    "recommended_counties_df.dropna(inplace=True)\n",
    "recommended_counties_df.reset_index(inplace=True)\n"
   ]
  },
  {
   "cell_type": "code",
   "execution_count": null,
   "metadata": {},
   "outputs": [],
   "source": []
  },
  {
   "cell_type": "code",
   "execution_count": 165,
   "metadata": {},
   "outputs": [
    {
     "data": {
      "image/png": "[encoded data removed]",
      "text/plain": [
       "<Figure size 432x288 with 1 Axes>"
      ]
     },
     "metadata": {
      "needs_background": "light"
     },
     "output_type": "display_data"
    }
   ],
   "source": [
    "# Here we create a custom colormap to use for plot\n",
    "\n",
    "import matplotlib. pyplot as plt\n",
    "from matplotlib import colors\n",
    "from matplotlib.colors import LinearSegmentedColormap\n",
    "%matplotlib inline\n",
    "\n",
    "def display_cmap(cmap): #Display  a colormap cmap\n",
    "    plt.imshow(np.linspace(0, 100, 256)[None, :],  aspect=25, interpolation='nearest', cmap=cmap) \n",
    "    plt.axis('off')\n",
    "    \n",
    "def colormap_to_colorscale(cmap,num_steps):\n",
    "    #function that transforms a matplotlib colormap to a Plotly colorscale\n",
    "    step_size = 1/num_steps\n",
    "    return [ [k*step_size, colors.rgb2hex(cmap(k*step_size))] for k in range(num_steps+1)]\n",
    "\n",
    "def colorscale_from_list(alist, name,num_steps): \n",
    "    # Defines a colormap, and the corresponding Plotly colorscale from the list alist\n",
    "    # alist=the list of basic colors\n",
    "    # name is the name of the corresponding matplotlib colormap\n",
    "    \n",
    "    cmap = LinearSegmentedColormap.from_list(name, alist)\n",
    "    display_cmap(cmap)\n",
    "    colorscale=colormap_to_colorscale(cmap,num_steps)\n",
    "    return cmap, colorscale\n",
    "\n",
    "## Below is the codes for common colors\n",
    "muted_blue = '#1f77b4'\n",
    "safety_orange = '#ff7f0e'\n",
    "cooked_asparagus_green = '#2ca02c'\n",
    "brick_red = '#d62728'\n",
    "muted_purple = '#9467bd'\n",
    "chestnut_brown = '#8c564b'\n",
    "rasberry_yogurt_pink = '#e377c2'\n",
    "middle_gray = '#7f7f7f'\n",
    "curry_yellow_green = '#bcbd22'\n",
    "blue_teal = '#17becf'\n",
    "\n",
    "input_colors = [brick_red,muted_blue,curry_yellow_green]\n",
    "# input_colors = ['#32924c',  '#d7df84', '#91511e'] # Green to Yellow to Brown\n",
    "# input_colors = ['#df0101', '#f5f6ce','#31b404'] # Red to Yellow to Green\n",
    "# input_colors = ['#df0101', '#f5f6ce'] # Red to Yellow\n",
    "# input_colors = ['#df0101',\"#08306b\"] # Red to Blue\n",
    "# input_colors = ['#9467bd','#bcbd22'] # Purple to Yellow/Green\n",
    "num_bins = 20\n",
    "elev_cmap, elev_cs = colorscale_from_list(input_colors, 'elev_cmap',num_bins)\n",
    "colorscale = [item[1] for item in elev_cs]"
   ]
  },
  {
   "cell_type": "code",
   "execution_count": 166,
   "metadata": {
    "scrolled": false
   },
   "outputs": [
    {
     "name": "stdout",
     "output_type": "stream",
     "text": [
      "The draw time for this plot will be slow for all clients.\n"
     ]
    },
    {
     "data": {
      "text/html": [
       "<iframe id=\"igraph\" scrolling=\"no\" style=\"border:none;\" seamless=\"seamless\" src=\"https://plot.ly/~bmoore49/6.embed\" height=\"450px\" width=\"900px\"></iframe>"
      ],
      "text/plain": [
       "<plotly.tools.PlotlyDisplay object>"
      ]
     },
     "execution_count": 166,
     "metadata": {},
     "output_type": "execute_result"
    }
   ],
   "source": [
    "# Anything above the below percentage will be shown as same (helps show greater detail of other counties)\n",
    "max_val_percentage = 0.25 # For Michigan\n",
    "\n",
    "fips = FIPS_values\n",
    "values = distance_score\n",
    "endpts = list(np.linspace(min(values), max(values)*max_val_percentage, num_bins - 1))\n",
    "\n",
    "# If user only wants to see results in a single state display only that state\n",
    "if len(state_select)==1:\n",
    "    disp_scope = state_select\n",
    "else:\n",
    "    disp_scope = ['usa']\n",
    "\n",
    "fig = ff.create_choropleth(\n",
    "    county_outline={'color': 'rgb(15, 15, 55)', 'width': 0.5},\n",
    "    state_outline={'width': 1},\n",
    "    fips = fips, values = values, scope = disp_scope,\n",
    "    binning_endpoints = endpts,\n",
    "    colorscale=colorscale,\n",
    "    show_state_data = True,\n",
    "    show_hover = True, centroid_marker = {\n",
    "        'opacity': 0\n",
    "    },\n",
    "    asp = 2.9,\n",
    "    title = 'Map of Recommended Counties (Lower Score Means Better Match)',\n",
    "    legend_title = 'Distance Score'\n",
    ")\n",
    "py.iplot(fig, filename = 'County Recommendation Plot')\n",
    "# plotly.io.write_image(fig, 'county_map.png')"
   ]
  },
  {
   "cell_type": "markdown",
   "metadata": {},
   "source": [
    "Please note that if the above figure does not load (as I have been seeing problems with it being rendered online) that there are representative plots in the folder here:<br>\n",
    "https://github.com/moorebryan/county-recommendation-engine/tree/master/plots"
   ]
  },
  {
   "cell_type": "code",
   "execution_count": 167,
   "metadata": {},
   "outputs": [
    {
     "name": "stdout",
     "output_type": "stream",
     "text": [
      "Below are the top 20 counties in the selected region (with requested information):\n"
     ]
    },
    {
     "data": {
      "text/html": [
       "<div>\n",
       "<style scoped>\n",
       "    .dataframe tbody tr th:only-of-type {\n",
       "        vertical-align: middle;\n",
       "    }\n",
       "\n",
       "    .dataframe tbody tr th {\n",
       "        vertical-align: top;\n",
       "    }\n",
       "\n",
       "    .dataframe thead th {\n",
       "        text-align: right;\n",
       "    }\n",
       "</style>\n",
       "<table border=\"1\" class=\"dataframe\">\n",
       "  <thead>\n",
       "    <tr style=\"text-align: right;\">\n",
       "      <th></th>\n",
       "      <th>Closeness Score</th>\n",
       "      <th>StateName</th>\n",
       "      <th>CountyName</th>\n",
       "      <th>Avg Listing Price</th>\n",
       "      <th>Rural-Urban Continuum Code</th>\n",
       "      <th>Unemployment Rate</th>\n",
       "      <th>Mean Income</th>\n",
       "    </tr>\n",
       "  </thead>\n",
       "  <tbody>\n",
       "    <tr>\n",
       "      <th>0</th>\n",
       "      <td>0.064809</td>\n",
       "      <td>North Dakota</td>\n",
       "      <td>Mercer</td>\n",
       "      <td>199683</td>\n",
       "      <td>7.0</td>\n",
       "      <td>4.0</td>\n",
       "      <td>82991.0</td>\n",
       "    </tr>\n",
       "    <tr>\n",
       "      <th>1</th>\n",
       "      <td>0.075592</td>\n",
       "      <td>Wyoming</td>\n",
       "      <td>Campbell</td>\n",
       "      <td>220187</td>\n",
       "      <td>5.0</td>\n",
       "      <td>4.9</td>\n",
       "      <td>78240.0</td>\n",
       "    </tr>\n",
       "    <tr>\n",
       "      <th>2</th>\n",
       "      <td>0.080465</td>\n",
       "      <td>Nevada</td>\n",
       "      <td>Lander</td>\n",
       "      <td>146922</td>\n",
       "      <td>7.0</td>\n",
       "      <td>4.5</td>\n",
       "      <td>75943.0</td>\n",
       "    </tr>\n",
       "    <tr>\n",
       "      <th>3</th>\n",
       "      <td>0.087966</td>\n",
       "      <td>Wyoming</td>\n",
       "      <td>Sweetwater</td>\n",
       "      <td>233137</td>\n",
       "      <td>5.0</td>\n",
       "      <td>4.6</td>\n",
       "      <td>75590.0</td>\n",
       "    </tr>\n",
       "    <tr>\n",
       "      <th>4</th>\n",
       "      <td>0.087973</td>\n",
       "      <td>Virginia</td>\n",
       "      <td>King George</td>\n",
       "      <td>333733</td>\n",
       "      <td>6.0</td>\n",
       "      <td>4.0</td>\n",
       "      <td>86878.0</td>\n",
       "    </tr>\n",
       "    <tr>\n",
       "      <th>5</th>\n",
       "      <td>0.089043</td>\n",
       "      <td>Alaska</td>\n",
       "      <td>Juneau</td>\n",
       "      <td>356929</td>\n",
       "      <td>5.0</td>\n",
       "      <td>4.7</td>\n",
       "      <td>90436.0</td>\n",
       "    </tr>\n",
       "    <tr>\n",
       "      <th>6</th>\n",
       "      <td>0.099074</td>\n",
       "      <td>Nevada</td>\n",
       "      <td>Elko</td>\n",
       "      <td>261835</td>\n",
       "      <td>5.0</td>\n",
       "      <td>3.7</td>\n",
       "      <td>76439.0</td>\n",
       "    </tr>\n",
       "    <tr>\n",
       "      <th>7</th>\n",
       "      <td>0.103041</td>\n",
       "      <td>Connecticut</td>\n",
       "      <td>Litchfield</td>\n",
       "      <td>302491</td>\n",
       "      <td>4.0</td>\n",
       "      <td>4.3</td>\n",
       "      <td>77968.0</td>\n",
       "    </tr>\n",
       "    <tr>\n",
       "      <th>8</th>\n",
       "      <td>0.104360</td>\n",
       "      <td>Maryland</td>\n",
       "      <td>Saint Marys</td>\n",
       "      <td>299252</td>\n",
       "      <td>3.0</td>\n",
       "      <td>4.0</td>\n",
       "      <td>82433.0</td>\n",
       "    </tr>\n",
       "    <tr>\n",
       "      <th>9</th>\n",
       "      <td>0.106653</td>\n",
       "      <td>South Dakota</td>\n",
       "      <td>Union</td>\n",
       "      <td>290883</td>\n",
       "      <td>3.0</td>\n",
       "      <td>3.7</td>\n",
       "      <td>82100.0</td>\n",
       "    </tr>\n",
       "    <tr>\n",
       "      <th>10</th>\n",
       "      <td>0.108928</td>\n",
       "      <td>New Jersey</td>\n",
       "      <td>Warren</td>\n",
       "      <td>228454</td>\n",
       "      <td>2.0</td>\n",
       "      <td>4.2</td>\n",
       "      <td>79633.0</td>\n",
       "    </tr>\n",
       "    <tr>\n",
       "      <th>11</th>\n",
       "      <td>0.109512</td>\n",
       "      <td>Wyoming</td>\n",
       "      <td>Sublette</td>\n",
       "      <td>245202</td>\n",
       "      <td>9.0</td>\n",
       "      <td>4.4</td>\n",
       "      <td>74811.0</td>\n",
       "    </tr>\n",
       "    <tr>\n",
       "      <th>12</th>\n",
       "      <td>0.109669</td>\n",
       "      <td>New Jersey</td>\n",
       "      <td>Gloucester</td>\n",
       "      <td>189031</td>\n",
       "      <td>1.0</td>\n",
       "      <td>4.7</td>\n",
       "      <td>84639.0</td>\n",
       "    </tr>\n",
       "    <tr>\n",
       "      <th>13</th>\n",
       "      <td>0.109703</td>\n",
       "      <td>Illinois</td>\n",
       "      <td>Kendall</td>\n",
       "      <td>252285</td>\n",
       "      <td>1.0</td>\n",
       "      <td>4.5</td>\n",
       "      <td>97039.0</td>\n",
       "    </tr>\n",
       "    <tr>\n",
       "      <th>14</th>\n",
       "      <td>0.110367</td>\n",
       "      <td>New Jersey</td>\n",
       "      <td>Sussex</td>\n",
       "      <td>241433</td>\n",
       "      <td>1.0</td>\n",
       "      <td>4.4</td>\n",
       "      <td>89744.0</td>\n",
       "    </tr>\n",
       "    <tr>\n",
       "      <th>15</th>\n",
       "      <td>0.111223</td>\n",
       "      <td>Nevada</td>\n",
       "      <td>Humboldt</td>\n",
       "      <td>190258</td>\n",
       "      <td>7.0</td>\n",
       "      <td>4.2</td>\n",
       "      <td>68753.0</td>\n",
       "    </tr>\n",
       "    <tr>\n",
       "      <th>16</th>\n",
       "      <td>0.111447</td>\n",
       "      <td>North Dakota</td>\n",
       "      <td>Williams</td>\n",
       "      <td>251325</td>\n",
       "      <td>7.0</td>\n",
       "      <td>2.5</td>\n",
       "      <td>80161.0</td>\n",
       "    </tr>\n",
       "    <tr>\n",
       "      <th>17</th>\n",
       "      <td>0.112183</td>\n",
       "      <td>South Dakota</td>\n",
       "      <td>Lincoln</td>\n",
       "      <td>251456</td>\n",
       "      <td>3.0</td>\n",
       "      <td>2.5</td>\n",
       "      <td>89458.0</td>\n",
       "    </tr>\n",
       "    <tr>\n",
       "      <th>18</th>\n",
       "      <td>0.113456</td>\n",
       "      <td>Illinois</td>\n",
       "      <td>Woodford</td>\n",
       "      <td>164004</td>\n",
       "      <td>2.0</td>\n",
       "      <td>4.3</td>\n",
       "      <td>75733.0</td>\n",
       "    </tr>\n",
       "    <tr>\n",
       "      <th>19</th>\n",
       "      <td>0.113681</td>\n",
       "      <td>New Jersey</td>\n",
       "      <td>Burlington</td>\n",
       "      <td>227662</td>\n",
       "      <td>1.0</td>\n",
       "      <td>4.1</td>\n",
       "      <td>86777.0</td>\n",
       "    </tr>\n",
       "  </tbody>\n",
       "</table>\n",
       "</div>"
      ],
      "text/plain": [
       "    Closeness Score     StateName   CountyName  Avg Listing Price  \\\n",
       "0          0.064809  North Dakota       Mercer             199683   \n",
       "1          0.075592       Wyoming     Campbell             220187   \n",
       "2          0.080465        Nevada       Lander             146922   \n",
       "3          0.087966       Wyoming   Sweetwater             233137   \n",
       "4          0.087973      Virginia  King George             333733   \n",
       "5          0.089043        Alaska       Juneau             356929   \n",
       "6          0.099074        Nevada         Elko             261835   \n",
       "7          0.103041   Connecticut   Litchfield             302491   \n",
       "8          0.104360      Maryland  Saint Marys             299252   \n",
       "9          0.106653  South Dakota        Union             290883   \n",
       "10         0.108928    New Jersey       Warren             228454   \n",
       "11         0.109512       Wyoming     Sublette             245202   \n",
       "12         0.109669    New Jersey   Gloucester             189031   \n",
       "13         0.109703      Illinois      Kendall             252285   \n",
       "14         0.110367    New Jersey       Sussex             241433   \n",
       "15         0.111223        Nevada     Humboldt             190258   \n",
       "16         0.111447  North Dakota     Williams             251325   \n",
       "17         0.112183  South Dakota      Lincoln             251456   \n",
       "18         0.113456      Illinois     Woodford             164004   \n",
       "19         0.113681    New Jersey   Burlington             227662   \n",
       "\n",
       "    Rural-Urban Continuum Code  Unemployment Rate  Mean Income  \n",
       "0                          7.0                4.0      82991.0  \n",
       "1                          5.0                4.9      78240.0  \n",
       "2                          7.0                4.5      75943.0  \n",
       "3                          5.0                4.6      75590.0  \n",
       "4                          6.0                4.0      86878.0  \n",
       "5                          5.0                4.7      90436.0  \n",
       "6                          5.0                3.7      76439.0  \n",
       "7                          4.0                4.3      77968.0  \n",
       "8                          3.0                4.0      82433.0  \n",
       "9                          3.0                3.7      82100.0  \n",
       "10                         2.0                4.2      79633.0  \n",
       "11                         9.0                4.4      74811.0  \n",
       "12                         1.0                4.7      84639.0  \n",
       "13                         1.0                4.5      97039.0  \n",
       "14                         1.0                4.4      89744.0  \n",
       "15                         7.0                4.2      68753.0  \n",
       "16                         7.0                2.5      80161.0  \n",
       "17                         3.0                2.5      89458.0  \n",
       "18                         2.0                4.3      75733.0  \n",
       "19                         1.0                4.1      86777.0  "
      ]
     },
     "execution_count": 167,
     "metadata": {},
     "output_type": "execute_result"
    }
   ],
   "source": [
    "print('Below are the top 20 counties in the selected region (with requested information):')\n",
    "recommended_counties_df.drop(columns=['index','FIPS'],inplace=True)\n",
    "# Convert Avg Listing Price to integer\n",
    "recommended_counties_df['Avg Listing Price'] = [int(value) for value in recommended_counties_df['Avg Listing Price'].values]\n",
    "recommended_counties_df.head(20)"
   ]
  },
  {
   "cell_type": "code",
   "execution_count": null,
   "metadata": {},
   "outputs": [],
   "source": []
  }
 ],
 "metadata": {
  "kernelspec": {
   "display_name": "Python 3",
   "language": "python",
   "name": "python3"
  },
  "language_info": {
   "codemirror_mode": {
    "name": "ipython",
    "version": 3
   },
   "file_extension": ".py",
   "mimetype": "text/x-python",
   "name": "python",
   "nbconvert_exporter": "python",
   "pygments_lexer": "ipython3",
   "version": "3.6.8"
  }
 },
 "nbformat": 4,
 "nbformat_minor": 2
}
